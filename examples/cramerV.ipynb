{
 "cells": [
  {
   "cell_type": "code",
   "execution_count": 2,
   "metadata": {},
   "outputs": [
    {
     "name": "stderr",
     "output_type": "stream",
     "text": [
      "/home/zihaog/miniconda3/envs/py310/lib/python3.10/site-packages/scipy/__init__.py:146: UserWarning: A NumPy version >=1.16.5 and <1.23.0 is required for this version of SciPy (detected version 1.24.4\n",
      "  warnings.warn(f\"A NumPy version >={np_minversion} and <{np_maxversion}\"\n"
     ]
    }
   ],
   "source": [
    "import jax\n",
    "import numpy as np\n",
    "from scipy.stats.contingency import association\n",
    "import pandas as pd\n",
    "jax.config.update('jax_platform_name', 'cpu')\n",
    "\n",
    "# import cudf"
   ]
  },
  {
   "cell_type": "code",
   "execution_count": 3,
   "metadata": {},
   "outputs": [],
   "source": [
    "# a = np.random.normal(0, 1, size = 5000)\n",
    "# b = np.random.normal(0, 1, size = 5000)\n",
    "\n",
    "a = np.random.randint(0, 5, size = 5000)\n",
    "b = np.random.randint(0, 3, size = 5000)\n"
   ]
  },
  {
   "cell_type": "code",
   "execution_count": 4,
   "metadata": {},
   "outputs": [
    {
     "name": "stdout",
     "output_type": "stream",
     "text": [
      "7.32 ms ± 550 µs per loop (mean ± std. dev. of 7 runs, 100 loops each)\n"
     ]
    }
   ],
   "source": [
    "%%timeit\n",
    "df_xtab = pd.crosstab(a,b)\n",
    "result = association(df_xtab, method='cramer')\n",
    "result"
   ]
  },
  {
   "cell_type": "code",
   "execution_count": 143,
   "metadata": {},
   "outputs": [
    {
     "name": "stdout",
     "output_type": "stream",
     "text": [
      "3.81 ms ± 103 µs per loop (mean ± std. dev. of 7 runs, 100 loops each)\n"
     ]
    }
   ],
   "source": [
    "%%timeit\n",
    "# crosstab\n",
    "xtab = np.unique(np.stack([a,b]), axis = 1, return_counts= True)\n",
    "\n",
    "index = len(np.unique(xtab[0][0]))\n",
    "col = len(np.unique(xtab[0][1]))\n",
    "xt = np.zeros((index,col), dtype=np.int32)\n",
    "for idx, count in zip(xtab[0].T, xtab[1]):\n",
    "    xt[idx[0], idx[1]] = count\n",
    "\n",
    "association(xt, method='cramer')"
   ]
  },
  {
   "cell_type": "code",
   "execution_count": 144,
   "metadata": {},
   "outputs": [],
   "source": [
    "%%timeit\n",
    "# crosstab\n",
    "cols = a, b\n",
    "uniq_vals_all_cols, idx = zip( *(np.unique(col, return_inverse=True) for col in cols) )\n",
    "shape_xt = [uniq_vals_col.size for uniq_vals_col in uniq_vals_all_cols]\n",
    "dtype_xt = 'uint'\n",
    "xt = np.zeros(shape_xt, dtype=dtype_xt)\n",
    "np.add.at(xt, idx, 1)\n",
    "uniq_vals_all_cols, xt\n",
    "\n",
    "association(xt, method='cramer')"
   ]
  },
  {
   "cell_type": "code",
   "execution_count": 62,
   "metadata": {},
   "outputs": [],
   "source": [
    "import numba"
   ]
  },
  {
   "cell_type": "code",
   "execution_count": 138,
   "metadata": {},
   "outputs": [],
   "source": [
    "@numba.jit(nopython=True)\n",
    "def numba_xtab(a,b):\n",
    "    uniq_vals_all_col_a = np.unique(a)\n",
    "    uniq_vals_all_col_b = np.unique(b)\n",
    "    shape_xt = (uniq_vals_all_col_a.size, uniq_vals_all_col_b.size)\n",
    "    xt = np.zeros(shape_xt, dtype=np.int32)\n",
    "    for i, j in zip(a,b):\n",
    "        xt[i,j] += 1\n",
    "    return xt\n",
    "\n"
   ]
  },
  {
   "cell_type": "code",
   "execution_count": 142,
   "metadata": {},
   "outputs": [
    {
     "name": "stdout",
     "output_type": "stream",
     "text": [
      "590 µs ± 39.1 µs per loop (mean ± std. dev. of 7 runs, 1,000 loops each)\n"
     ]
    }
   ],
   "source": [
    "%%timeit\n",
    "xt = numba_xtab(a,b)\n",
    "association(xt, method='cramer')"
   ]
  }
 ],
 "metadata": {
  "kernelspec": {
   "display_name": "py310",
   "language": "python",
   "name": "python3"
  },
  "language_info": {
   "codemirror_mode": {
    "name": "ipython",
    "version": 3
   },
   "file_extension": ".py",
   "mimetype": "text/x-python",
   "name": "python",
   "nbconvert_exporter": "python",
   "pygments_lexer": "ipython3",
   "version": "3.10.9"
  }
 },
 "nbformat": 4,
 "nbformat_minor": 2
}
