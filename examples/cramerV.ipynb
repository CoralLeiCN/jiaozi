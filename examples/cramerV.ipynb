{
 "cells": [
  {
   "cell_type": "code",
   "execution_count": 80,
   "metadata": {},
   "outputs": [],
   "source": [
    "import jax\n",
    "import numpy as np\n",
    "from scipy.stats.contingency import association\n",
    "import pandas as pd\n",
    "jax.config.update('jax_platform_name', 'cpu')\n",
    "\n",
    "# import cudf"
   ]
  },
  {
   "cell_type": "code",
   "execution_count": 81,
   "metadata": {},
   "outputs": [],
   "source": [
    "# a = np.random.normal(0, 1, size = 5000)\n",
    "# b = np.random.normal(0, 1, size = 5000)\n",
    "\n",
    "a = np.random.randint(0, 5, size = 5000)\n",
    "b = np.random.randint(0, 3, size = 5000)\n"
   ]
  },
  {
   "cell_type": "code",
   "execution_count": 84,
   "metadata": {},
   "outputs": [
    {
     "data": {
      "text/plain": [
       "0.025216382460013086"
      ]
     },
     "execution_count": 84,
     "metadata": {},
     "output_type": "execute_result"
    }
   ],
   "source": [
    "# %%timeit\n",
    "df_xtab = pd.crosstab(a,b)\n",
    "result = association(df_xtab, method='cramer')\n",
    "result"
   ]
  },
  {
   "cell_type": "code",
   "execution_count": 92,
   "metadata": {},
   "outputs": [
    {
     "data": {
      "text/plain": [
       "0.025216382460013086"
      ]
     },
     "execution_count": 92,
     "metadata": {},
     "output_type": "execute_result"
    }
   ],
   "source": [
    "# %%timeit\n",
    "# crosstab\n",
    "xtab = np.unique(np.stack([a,b]), axis = 1, return_counts= True)\n",
    "index = len(np.unique(xtab[0][0]))\n",
    "col = len(np.unique(xtab[0][1]))\n",
    "xt = np.zeros((index,col), dtype=np.int32)\n",
    "\n",
    "for idx, count in zip(xtab[0].T, xtab[1]):\n",
    "    xt[idx[0], idx[1]] = count\n",
    "\n",
    "association(xt, method='cramer')"
   ]
  },
  {
   "cell_type": "code",
   "execution_count": null,
   "metadata": {},
   "outputs": [],
   "source": []
  }
 ],
 "metadata": {
  "kernelspec": {
   "display_name": "py310",
   "language": "python",
   "name": "python3"
  },
  "language_info": {
   "codemirror_mode": {
    "name": "ipython",
    "version": 3
   },
   "file_extension": ".py",
   "mimetype": "text/x-python",
   "name": "python",
   "nbconvert_exporter": "python",
   "pygments_lexer": "ipython3",
   "version": "3.10.9"
  }
 },
 "nbformat": 4,
 "nbformat_minor": 2
}
