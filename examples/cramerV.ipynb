{
 "cells": [
  {
   "cell_type": "markdown",
   "metadata": {},
   "source": [
    "CramerV is measure of association between two categorical variables\n",
    "https://en.wikipedia.org/wiki/Cram%C3%A9r%27s_V\n",
    "> This notebook is for benchmarking several different implementation\n",
    "- current running on i5-8400 CPU, \n"
   ]
  },
  {
   "cell_type": "code",
   "execution_count": 2,
   "metadata": {},
   "outputs": [],
   "source": [
    "import numpy as np\n",
    "import pandas as pd\n"
   ]
  },
  {
   "cell_type": "markdown",
   "metadata": {},
   "source": [
    "generate data"
   ]
  },
  {
   "cell_type": "code",
   "execution_count": 3,
   "metadata": {},
   "outputs": [
    {
     "data": {
      "text/html": [
       "<div>\n",
       "<style scoped>\n",
       "    .dataframe tbody tr th:only-of-type {\n",
       "        vertical-align: middle;\n",
       "    }\n",
       "\n",
       "    .dataframe tbody tr th {\n",
       "        vertical-align: top;\n",
       "    }\n",
       "\n",
       "    .dataframe thead th {\n",
       "        text-align: right;\n",
       "    }\n",
       "</style>\n",
       "<table border=\"1\" class=\"dataframe\">\n",
       "  <thead>\n",
       "    <tr style=\"text-align: right;\">\n",
       "      <th></th>\n",
       "      <th>animal</th>\n",
       "      <th>color</th>\n",
       "    </tr>\n",
       "  </thead>\n",
       "  <tbody>\n",
       "    <tr>\n",
       "      <th>0</th>\n",
       "      <td>dog</td>\n",
       "      <td>blue</td>\n",
       "    </tr>\n",
       "    <tr>\n",
       "      <th>1</th>\n",
       "      <td>mouse</td>\n",
       "      <td>red</td>\n",
       "    </tr>\n",
       "  </tbody>\n",
       "</table>\n",
       "</div>"
      ],
      "text/plain": [
       "  animal color\n",
       "0    dog  blue\n",
       "1  mouse   red"
      ]
     },
     "execution_count": 3,
     "metadata": {},
     "output_type": "execute_result"
    }
   ],
   "source": [
    "# generate a random numpy matrix with two categorical variables\n",
    "\n",
    "# Define the categories\n",
    "animal = ['cat', 'dog', 'mouse']\n",
    "color = ['red', 'blue', 'green']\n",
    "size = 100\n",
    "\n",
    "# Generate pd.Dataframe with two categorical variables\n",
    "df = pd.DataFrame({\n",
    "    'animal': np.random.choice(animal, size),\n",
    "    'color': np.random.choice(color, size)\n",
    "})\n",
    "df.head(2)"
   ]
  },
  {
   "cell_type": "code",
   "execution_count": 4,
   "metadata": {},
   "outputs": [],
   "source": [
    "df['animal'] = df['animal'].astype('category').cat.codes\n",
    "df['color'] = df['color'].astype('category').cat.codes"
   ]
  },
  {
   "cell_type": "markdown",
   "metadata": {},
   "source": [
    "method 1, consise method with scipy and pandas"
   ]
  },
  {
   "cell_type": "code",
   "execution_count": 5,
   "metadata": {},
   "outputs": [
    {
     "name": "stderr",
     "output_type": "stream",
     "text": [
      "/home/zihaog/miniconda3/envs/py310/lib/python3.10/site-packages/scipy/__init__.py:146: UserWarning: A NumPy version >=1.16.5 and <1.23.0 is required for this version of SciPy (detected version 1.26.2\n",
      "  warnings.warn(f\"A NumPy version >={np_minversion} and <{np_maxversion}\"\n"
     ]
    }
   ],
   "source": [
    "from scipy.stats.contingency import association"
   ]
  },
  {
   "cell_type": "code",
   "execution_count": 6,
   "metadata": {},
   "outputs": [
    {
     "data": {
      "text/plain": [
       "0.16616579479866295"
      ]
     },
     "execution_count": 6,
     "metadata": {},
     "output_type": "execute_result"
    }
   ],
   "source": [
    "def cramer1(a, b):\n",
    "    xtab = pd.crosstab(a, b)\n",
    "    return association(xtab, method='cramer')\n",
    "cramer1(df['animal'], df['color'])"
   ]
  },
  {
   "cell_type": "markdown",
   "metadata": {},
   "source": [
    "method 2, implemented like algorithm described in wiki"
   ]
  },
  {
   "cell_type": "code",
   "execution_count": 7,
   "metadata": {},
   "outputs": [],
   "source": [
    "from scipy.stats import chi2_contingency"
   ]
  },
  {
   "cell_type": "code",
   "execution_count": 8,
   "metadata": {},
   "outputs": [
    {
     "data": {
      "text/plain": [
       "0.16616579479866295"
      ]
     },
     "execution_count": 8,
     "metadata": {},
     "output_type": "execute_result"
    }
   ],
   "source": [
    "def cramer2(a, b ):\n",
    "    xtab = pd.crosstab(a, b)\n",
    "    chi2 = chi2_contingency(xtab)[0]\n",
    "    return np.sqrt((chi2 / xtab.values.sum()) / min(xtab.shape[0] - 1, xtab.shape[1] - 1))\n",
    "cramer2(df['animal'], df['color'])"
   ]
  },
  {
   "cell_type": "markdown",
   "metadata": {},
   "source": [
    "method 3, improve the xtab with numpy"
   ]
  },
  {
   "cell_type": "code",
   "execution_count": 9,
   "metadata": {},
   "outputs": [
    {
     "data": {
      "text/plain": [
       "0.16616579479866295"
      ]
     },
     "execution_count": 9,
     "metadata": {},
     "output_type": "execute_result"
    }
   ],
   "source": [
    "# modifed based on \n",
    "# https://gist.github.com/alexland/d6d64d3f634895b9dc8e\n",
    "\n",
    "def numpy_crosstab(a,b):\n",
    "    uniq_vals_a, idx_a = np.unique(a, return_inverse=True)\n",
    "    uniq_vals_b, idx_b = np.unique(b, return_inverse=True)\n",
    "    shape_xt = (uniq_vals_a.size, uniq_vals_b.size)\n",
    "    xt = np.zeros(shape_xt, dtype='uint')\n",
    "    np.add.at(xt, (idx_a, idx_b), 1)\n",
    "    return xt\n",
    "    \n",
    "def cramer3(a, b ):\n",
    "    xtab = numpy_crosstab(a, b)\n",
    "    chi2 = chi2_contingency(xtab)[0]\n",
    "    return np.sqrt((chi2 / xtab.sum()) / min(xtab.shape[0] - 1, xtab.shape[1] - 1))\n",
    "cramer3(df['animal'], df['color'])"
   ]
  },
  {
   "cell_type": "markdown",
   "metadata": {},
   "source": [
    "method 4, futher improve xtab with numba JIT"
   ]
  },
  {
   "cell_type": "code",
   "execution_count": 10,
   "metadata": {},
   "outputs": [],
   "source": [
    "import numba"
   ]
  },
  {
   "cell_type": "code",
   "execution_count": 11,
   "metadata": {},
   "outputs": [],
   "source": [
    "@numba.jit(nopython=True)\n",
    "def custom_np_unqiue_with_inverse(ar):\n",
    "    '''\n",
    "    the simplifed version of np.unique with return_inverse \n",
    "    # https://github.com/numpy/numpy/blob/a60de40f14580078dcfd9d0faf33ba3ec768fc8a/numpy/lib/_arraysetops_impl.py#L336\n",
    "    becuase we only need the return_inverse\n",
    "    And we know we will only have 1-d array without any nan and it will be integer.\n",
    "    '''\n",
    "    ar = np.ascontiguousarray(ar)\n",
    "    perm = ar.argsort(kind = 'quicksort')\n",
    "    aux = ar[perm]\n",
    "    # get unique\n",
    "    mask = np.empty(aux.shape, dtype=np.bool_)\n",
    "    mask[:1] = True\n",
    "    mask[1:] = aux[1:] != aux[:-1]\n",
    "    ret = aux[mask]\n",
    "    # get the indices of the unique array\n",
    "    imask = np.cumsum(mask) - 1\n",
    "    inv_idx = np.empty(mask.shape, dtype=np.intp)\n",
    "    inv_idx[perm] = imask\n",
    "    return ret, inv_idx\n",
    "@numba.jit(nopython=True)\n",
    "def numba_crosstab(a,b):\n",
    "    uniq_vals_a, idx_a = custom_np_unqiue_with_inverse(a)\n",
    "    uniq_vals_b, idx_b = custom_np_unqiue_with_inverse(b)\n",
    "    shape_xt = (uniq_vals_a.size, uniq_vals_b.size)\n",
    "    xt = np.zeros(shape_xt, dtype='uint')\n",
    "    # equivalent to np.add.at(xt, (idx_a, idx_b), 1)\n",
    "    for i in range(len(idx_a)):\n",
    "        xt[idx_a[i], idx_b[i]] += 1\n",
    "    return xt"
   ]
  },
  {
   "cell_type": "code",
   "execution_count": 12,
   "metadata": {},
   "outputs": [
    {
     "data": {
      "text/plain": [
       "0.16616579479866295"
      ]
     },
     "execution_count": 12,
     "metadata": {},
     "output_type": "execute_result"
    }
   ],
   "source": [
    "def cramer4(a, b ):\n",
    "    xtab = numba_crosstab(a, b)\n",
    "    chi2 = chi2_contingency(xtab)[0]\n",
    "    return np.sqrt((chi2 / xtab.sum()) / min(xtab.shape[0] - 1, xtab.shape[1] - 1))\n",
    "cramer4(df['animal'].values, df['color'].values)"
   ]
  },
  {
   "cell_type": "markdown",
   "metadata": {},
   "source": [
    "method 5, chi2_contingency has lots of features that we do no need, for example, no need to calculate p value for cramerv"
   ]
  },
  {
   "cell_type": "code",
   "execution_count": null,
   "metadata": {},
   "outputs": [],
   "source": [
    "def cramer5(a, b ):\n",
    "    xtab = numba_crosstab(a, b)\n",
    "    chi2 = chi2_contingency(xtab)[0]\n",
    "    return np.sqrt((chi2 / xtab.sum()) / min(xtab.shape[0] - 1, xtab.shape[1] - 1))\n",
    "cramer4(df['animal'].values, df['color'].values)"
   ]
  },
  {
   "cell_type": "code",
   "execution_count": 50,
   "metadata": {},
   "outputs": [],
   "source": [
    "# modifed based on https://github.com/scipy/scipy/blob/main/scipy/stats/contingency.py\n",
    "@numba.jit(nopython=True)\n",
    "def margins_2d(a):\n",
    "    margsum_row = x.sum(axis = 1)\n",
    "    margsum_col = x.sum(axis = 0)\n",
    "    return margsum_row, margsum_col\n",
    "\n",
    "from functools import reduce\n",
    "def expected_freq(observed):\n",
    "    # Typically `observed` is an integer array. If `observed` has a large\n",
    "    # number of dimensions or holds large values, some of the following\n",
    "    # computations may overflow, so we first switch to floating point.\n",
    "    observed = np.asarray(observed, dtype=np.float64)\n",
    "\n",
    "    # Create a list of the marginal sums.\n",
    "    margsums = margins_2d(observed)\n",
    "    # Create the array of expected frequencies.  The shapes of the\n",
    "    # marginal sums returned by apply_over_axes() are just what we\n",
    "    # need for broadcasting in the following product.\n",
    "    d = observed.ndim\n",
    "    expected = reduce(np.multiply, margsums) / observed.sum() ** (d - 1)\n",
    "    return expected    "
   ]
  },
  {
   "cell_type": "code",
   "execution_count": null,
   "metadata": {},
   "outputs": [],
   "source": []
  },
  {
   "cell_type": "code",
   "execution_count": 51,
   "metadata": {},
   "outputs": [
    {
     "data": {
      "text/plain": [
       "array([12.95, 11.84,  8.58])"
      ]
     },
     "execution_count": 51,
     "metadata": {},
     "output_type": "execute_result"
    }
   ],
   "source": [
    "expected_freq(numba_crosstab(df['animal'].values, df['color'].values))"
   ]
  },
  {
   "cell_type": "code",
   "execution_count": 48,
   "metadata": {},
   "outputs": [],
   "source": []
  },
  {
   "cell_type": "code",
   "execution_count": 24,
   "metadata": {},
   "outputs": [],
   "source": [
    "@numba.jit(nopython=True)\n",
    "def numba_expected_freq(observed):\n",
    "    # Typically `observed` is an integer array. If `observed` has a large\n",
    "    # number of dimensions or holds large values, some of the following\n",
    "    # computations may overflow, so we first switch to floating point.\n",
    "    observed = np.asarray(observed, dtype=np.float64)\n",
    "\n",
    "    # Create a list of the marginal sums.\n",
    "    margsums = margins(observed)"
   ]
  },
  {
   "cell_type": "code",
   "execution_count": 25,
   "metadata": {},
   "outputs": [
    {
     "ename": "TypingError",
     "evalue": "Failed in nopython mode pipeline (step: nopython frontend)\n\u001b[1m\u001b[1m\u001b[1m\u001b[1mFailed in nopython mode pipeline (step: nopython frontend)\n\u001b[1m\u001b[1mUse of unsupported NumPy function 'numpy.apply_over_axes' or unsupported use of the function.\n\u001b[1m\nFile \"../../../../../tmp/ipykernel_25241/7101530.py\", line 6:\u001b[0m\n\u001b[1m<source missing, REPL/exec in use?>\u001b[0m\n\u001b[0m\n\u001b[0m\u001b[1mDuring: typing of get attribute at /tmp/ipykernel_25241/7101530.py (6)\u001b[0m\n\u001b[1m\nFile \"../../../../../tmp/ipykernel_25241/7101530.py\", line 6:\u001b[0m\n\u001b[1m<source missing, REPL/exec in use?>\u001b[0m\n\n\u001b[0m\u001b[1mDuring: resolving callee type: type(CPUDispatcher(<function margins at 0x7f02b32b0550>))\u001b[0m\n\u001b[0m\u001b[1mDuring: typing of call at /tmp/ipykernel_25241/2431546293.py (9)\n\u001b[0m\n\u001b[0m\u001b[1mDuring: resolving callee type: type(CPUDispatcher(<function margins at 0x7f02b32b0550>))\u001b[0m\n\u001b[0m\u001b[1mDuring: typing of call at /tmp/ipykernel_25241/2431546293.py (9)\n\u001b[0m\n\u001b[1m\nFile \"../../../../../tmp/ipykernel_25241/2431546293.py\", line 9:\u001b[0m\n\u001b[1m<source missing, REPL/exec in use?>\u001b[0m\n",
     "output_type": "error",
     "traceback": [
      "\u001b[0;31m---------------------------------------------------------------------------\u001b[0m",
      "\u001b[0;31mTypingError\u001b[0m                               Traceback (most recent call last)",
      "Cell \u001b[0;32mIn[25], line 1\u001b[0m\n\u001b[0;32m----> 1\u001b[0m \u001b[43mnumba_expected_freq\u001b[49m\u001b[43m(\u001b[49m\u001b[43mnumba_crosstab\u001b[49m\u001b[43m(\u001b[49m\u001b[43mdf\u001b[49m\u001b[43m[\u001b[49m\u001b[38;5;124;43m'\u001b[39;49m\u001b[38;5;124;43manimal\u001b[39;49m\u001b[38;5;124;43m'\u001b[39;49m\u001b[43m]\u001b[49m\u001b[38;5;241;43m.\u001b[39;49m\u001b[43mvalues\u001b[49m\u001b[43m,\u001b[49m\u001b[43m \u001b[49m\u001b[43mdf\u001b[49m\u001b[43m[\u001b[49m\u001b[38;5;124;43m'\u001b[39;49m\u001b[38;5;124;43mcolor\u001b[39;49m\u001b[38;5;124;43m'\u001b[39;49m\u001b[43m]\u001b[49m\u001b[38;5;241;43m.\u001b[39;49m\u001b[43mvalues\u001b[49m\u001b[43m)\u001b[49m\u001b[43m)\u001b[49m\n",
      "File \u001b[0;32m~/miniconda3/envs/py310/lib/python3.10/site-packages/numba/core/dispatcher.py:468\u001b[0m, in \u001b[0;36m_DispatcherBase._compile_for_args\u001b[0;34m(self, *args, **kws)\u001b[0m\n\u001b[1;32m    464\u001b[0m         msg \u001b[38;5;241m=\u001b[39m (\u001b[38;5;124mf\u001b[39m\u001b[38;5;124m\"\u001b[39m\u001b[38;5;132;01m{\u001b[39;00m\u001b[38;5;28mstr\u001b[39m(e)\u001b[38;5;241m.\u001b[39mrstrip()\u001b[38;5;132;01m}\u001b[39;00m\u001b[38;5;124m \u001b[39m\u001b[38;5;130;01m\\n\u001b[39;00m\u001b[38;5;130;01m\\n\u001b[39;00m\u001b[38;5;124mThis error may have been caused \u001b[39m\u001b[38;5;124m\"\u001b[39m\n\u001b[1;32m    465\u001b[0m                \u001b[38;5;124mf\u001b[39m\u001b[38;5;124m\"\u001b[39m\u001b[38;5;124mby the following argument(s):\u001b[39m\u001b[38;5;130;01m\\n\u001b[39;00m\u001b[38;5;132;01m{\u001b[39;00margs_str\u001b[38;5;132;01m}\u001b[39;00m\u001b[38;5;130;01m\\n\u001b[39;00m\u001b[38;5;124m\"\u001b[39m)\n\u001b[1;32m    466\u001b[0m         e\u001b[38;5;241m.\u001b[39mpatch_message(msg)\n\u001b[0;32m--> 468\u001b[0m     \u001b[43merror_rewrite\u001b[49m\u001b[43m(\u001b[49m\u001b[43me\u001b[49m\u001b[43m,\u001b[49m\u001b[43m \u001b[49m\u001b[38;5;124;43m'\u001b[39;49m\u001b[38;5;124;43mtyping\u001b[39;49m\u001b[38;5;124;43m'\u001b[39;49m\u001b[43m)\u001b[49m\n\u001b[1;32m    469\u001b[0m \u001b[38;5;28;01mexcept\u001b[39;00m errors\u001b[38;5;241m.\u001b[39mUnsupportedError \u001b[38;5;28;01mas\u001b[39;00m e:\n\u001b[1;32m    470\u001b[0m     \u001b[38;5;66;03m# Something unsupported is present in the user code, add help info\u001b[39;00m\n\u001b[1;32m    471\u001b[0m     error_rewrite(e, \u001b[38;5;124m'\u001b[39m\u001b[38;5;124munsupported_error\u001b[39m\u001b[38;5;124m'\u001b[39m)\n",
      "File \u001b[0;32m~/miniconda3/envs/py310/lib/python3.10/site-packages/numba/core/dispatcher.py:409\u001b[0m, in \u001b[0;36m_DispatcherBase._compile_for_args.<locals>.error_rewrite\u001b[0;34m(e, issue_type)\u001b[0m\n\u001b[1;32m    407\u001b[0m     \u001b[38;5;28;01mraise\u001b[39;00m e\n\u001b[1;32m    408\u001b[0m \u001b[38;5;28;01melse\u001b[39;00m:\n\u001b[0;32m--> 409\u001b[0m     \u001b[38;5;28;01mraise\u001b[39;00m e\u001b[38;5;241m.\u001b[39mwith_traceback(\u001b[38;5;28;01mNone\u001b[39;00m)\n",
      "\u001b[0;31mTypingError\u001b[0m: Failed in nopython mode pipeline (step: nopython frontend)\n\u001b[1m\u001b[1m\u001b[1m\u001b[1mFailed in nopython mode pipeline (step: nopython frontend)\n\u001b[1m\u001b[1mUse of unsupported NumPy function 'numpy.apply_over_axes' or unsupported use of the function.\n\u001b[1m\nFile \"../../../../../tmp/ipykernel_25241/7101530.py\", line 6:\u001b[0m\n\u001b[1m<source missing, REPL/exec in use?>\u001b[0m\n\u001b[0m\n\u001b[0m\u001b[1mDuring: typing of get attribute at /tmp/ipykernel_25241/7101530.py (6)\u001b[0m\n\u001b[1m\nFile \"../../../../../tmp/ipykernel_25241/7101530.py\", line 6:\u001b[0m\n\u001b[1m<source missing, REPL/exec in use?>\u001b[0m\n\n\u001b[0m\u001b[1mDuring: resolving callee type: type(CPUDispatcher(<function margins at 0x7f02b32b0550>))\u001b[0m\n\u001b[0m\u001b[1mDuring: typing of call at /tmp/ipykernel_25241/2431546293.py (9)\n\u001b[0m\n\u001b[0m\u001b[1mDuring: resolving callee type: type(CPUDispatcher(<function margins at 0x7f02b32b0550>))\u001b[0m\n\u001b[0m\u001b[1mDuring: typing of call at /tmp/ipykernel_25241/2431546293.py (9)\n\u001b[0m\n\u001b[1m\nFile \"../../../../../tmp/ipykernel_25241/2431546293.py\", line 9:\u001b[0m\n\u001b[1m<source missing, REPL/exec in use?>\u001b[0m\n"
     ]
    }
   ],
   "source": [
    "numba_expected_freq(numba_crosstab(df['animal'].values, df['color'].values))"
   ]
  },
  {
   "cell_type": "markdown",
   "metadata": {},
   "source": [
    "benchmarking"
   ]
  },
  {
   "cell_type": "code",
   "execution_count": 30,
   "metadata": {},
   "outputs": [
    {
     "name": "stdout",
     "output_type": "stream",
     "text": [
      "5.88 ms ± 390 µs per loop (mean ± std. dev. of 7 runs, 100 loops each)\n"
     ]
    }
   ],
   "source": [
    "%%timeit\n",
    "cramer1(df['animal'], df['color'])"
   ]
  },
  {
   "cell_type": "code",
   "execution_count": 31,
   "metadata": {},
   "outputs": [
    {
     "name": "stdout",
     "output_type": "stream",
     "text": [
      "5.37 ms ± 166 µs per loop (mean ± std. dev. of 7 runs, 100 loops each)\n"
     ]
    }
   ],
   "source": [
    "%%timeit\n",
    "cramer2(df['animal'], df['color'])"
   ]
  },
  {
   "cell_type": "code",
   "execution_count": 32,
   "metadata": {},
   "outputs": [
    {
     "name": "stdout",
     "output_type": "stream",
     "text": [
      "323 µs ± 25.2 µs per loop (mean ± std. dev. of 7 runs, 1,000 loops each)\n"
     ]
    }
   ],
   "source": [
    "%%timeit\n",
    "cramer3(df['animal'], df['color'])"
   ]
  },
  {
   "cell_type": "code",
   "execution_count": 33,
   "metadata": {},
   "outputs": [
    {
     "name": "stdout",
     "output_type": "stream",
     "text": [
      "243 µs ± 8.21 µs per loop (mean ± std. dev. of 7 runs, 1,000 loops each)\n"
     ]
    }
   ],
   "source": [
    "%%timeit\n",
    "cramer4(df['animal'].values, df['color'].values)"
   ]
  },
  {
   "cell_type": "code",
   "execution_count": 15,
   "metadata": {},
   "outputs": [
    {
     "name": "stdout",
     "output_type": "stream",
     "text": [
      "10.3 µs ± 99.1 ns per loop (mean ± std. dev. of 7 runs, 100,000 loops each)\n"
     ]
    }
   ],
   "source": [
    "%%timeit\n",
    "numba_crosstab(df['animal'].values, df['color'].values)"
   ]
  },
  {
   "cell_type": "code",
   "execution_count": 16,
   "metadata": {},
   "outputs": [
    {
     "name": "stdout",
     "output_type": "stream",
     "text": [
      "2.42 µs ± 54.9 ns per loop (mean ± std. dev. of 7 runs, 100,000 loops each)\n"
     ]
    }
   ],
   "source": [
    "%%timeit\n",
    "a = df['color'].values"
   ]
  }
 ],
 "metadata": {
  "kernelspec": {
   "display_name": "py310",
   "language": "python",
   "name": "python3"
  },
  "language_info": {
   "codemirror_mode": {
    "name": "ipython",
    "version": 3
   },
   "file_extension": ".py",
   "mimetype": "text/x-python",
   "name": "python",
   "nbconvert_exporter": "python",
   "pygments_lexer": "ipython3",
   "version": "3.10.9"
  }
 },
 "nbformat": 4,
 "nbformat_minor": 2
}
