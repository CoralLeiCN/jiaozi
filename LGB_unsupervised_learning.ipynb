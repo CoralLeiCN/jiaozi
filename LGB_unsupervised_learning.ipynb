{
 "cells": [
  {
   "cell_type": "code",
   "execution_count": 29,
   "metadata": {},
   "outputs": [],
   "source": [
    "from sklearn import datasets\n",
    "# coding: utf-8\n",
    "import datetime\n",
    "import gc\n",
    "import math\n",
    "import os\n",
    "import seaborn as sns\n",
    "import time\n",
    "import warnings\n",
    "from contextlib import contextmanager\n",
    "\n",
    "import lightgbm as lgb\n",
    "import matplotlib.pyplot as plt\n",
    "import numpy as np\n",
    "import pandas as pd\n",
    "from sklearn.metrics import (auc, average_precision_score, confusion_matrix,\n",
    "                             mean_squared_error, precision_recall_curve,\n",
    "                             roc_curve)\n",
    "from sklearn.model_selection import KFold, StratifiedKFold\n",
    "from sklearn.metrics import mean_squared_error"
   ]
  },
  {
   "cell_type": "code",
   "execution_count": 39,
   "metadata": {},
   "outputs": [],
   "source": [
    "iris = datasets.load_iris(as_frame=True)\n",
    "target_names = iris['target_names']\n",
    "df = iris['frame']"
   ]
  },
  {
   "cell_type": "code",
   "execution_count": 54,
   "metadata": {},
   "outputs": [],
   "source": [
    "params ={\n",
    "    'task': 'train',\n",
    "    'boosting': 'goss',\n",
    "    'objective': 'regression',\n",
    "    'metric': 'rmse',\n",
    "    'learning_rate': 0.008,\n",
    "    'subsample': 0.9855232997390695,\n",
    "    'max_depth': 7,\n",
    "    'top_rate': 0.9064148448434349,\n",
    "    'num_leaves': 63,\n",
    "    'min_child_weight': 41.9612869171337,\n",
    "    'other_rate': 0.0721768246018207,\n",
    "    'reg_alpha': 9.677537745007898,\n",
    "    'colsample_bytree': 0.5665320670155495,\n",
    "    'min_split_gain': 9.820197773625843,\n",
    "    'reg_lambda': 8.2532317400459,\n",
    "    'min_data_in_leaf': 21,\n",
    "    'verbose': -1,\n",
    "    'seed':0,\n",
    "    'bagging_seed':0,\n",
    "    'drop_seed':0,\n",
    "    }\n"
   ]
  },
  {
   "cell_type": "code",
   "execution_count": 55,
   "metadata": {},
   "outputs": [],
   "source": [
    "folds = StratifiedKFold(n_splits= 5, shuffle=True, random_state=42)"
   ]
  },
  {
   "cell_type": "code",
   "execution_count": 56,
   "metadata": {},
   "outputs": [],
   "source": [
    "train_df = df[df.columns[0:4]]\n",
    "target = df['target']"
   ]
  },
  {
   "cell_type": "code",
   "execution_count": 72,
   "metadata": {},
   "outputs": [],
   "source": [
    "# LightGBM GBDT with KFold or Stratified KFold\n",
    "def oof_lgb(train_df, target, folds, params):\n",
    "    print(f\"Starting LightGBM {train_df.shape}\")\n",
    "    # Cross validation model\n",
    "    cv_score = 0\n",
    "    # # Create arrays and dataframes to store results\n",
    "    # cv_score = 0\n",
    "    oof_preds = np.zeros(train_df.shape[0])\n",
    "    # sub_preds = np.zeros(test_df.shape[0])\n",
    "    # feature_importance_df = pd.DataFrame()\n",
    "    # feats = [f for f in train_df.columns if f not in FEATS_EXCLUDED]\n",
    "\n",
    "    # k-fold\n",
    "\n",
    "    for _fold, (train_idx, valid_idx) in enumerate(folds.split(train_df, target)):\n",
    "        train_x, train_y = train_df.iloc[train_idx], target.iloc[train_idx]\n",
    "        valid_x, valid_y = train_df.iloc[valid_idx], target.iloc[valid_idx]\n",
    "        \n",
    "            # set data structure\n",
    "        lgb_train = lgb.Dataset(train_x,\n",
    "                                label=train_y,\n",
    "                                free_raw_data=False)\n",
    "        lgb_test = lgb.Dataset(valid_x,\n",
    "                               label=valid_y,\n",
    "                               free_raw_data=False)\n",
    "        \n",
    "\n",
    "        clf = lgb.train(\n",
    "                        params,\n",
    "                        lgb_train,\n",
    "                        valid_sets=[lgb_train, lgb_test],\n",
    "                        valid_names=['train', 'test'],\n",
    "                        num_boost_round=10000,\n",
    "                        )\n",
    "        oof_preds[valid_idx] = clf.predict(valid_x, num_iteration=clf.best_iteration)\n",
    "        cv_score += mean_squared_error(valid_y, oof_preds[valid_idx]) /folds.n_splits\n",
    "    return cv_score / folds.n_splits"
   ]
  },
  {
   "cell_type": "code",
   "execution_count": 73,
   "metadata": {},
   "outputs": [
    {
     "name": "stdout",
     "output_type": "stream",
     "text": [
      "Starting LightGBM (150, 4)\n"
     ]
    },
    {
     "data": {
      "text/plain": [
       "0.0713961225385033"
      ]
     },
     "execution_count": 73,
     "metadata": {},
     "output_type": "execute_result"
    }
   ],
   "source": [
    "oof_lgb(train_df, target, folds, params)"
   ]
  },
  {
   "cell_type": "code",
   "execution_count": 15,
   "metadata": {},
   "outputs": [],
   "source": [
    "#     # reg.save_model(output_file_path + str(n_fold)+ 'all_train_model.txt', num_iteration = reg.best_iteration)\n",
    "#     sub_preds += reg.predict(test_df[feats], num_iteration=reg.best_iteration) / folds.n_splits\n",
    "\n",
    "#     #feature importance\n",
    "#     fold_importance_df = pd.DataFrame()\n",
    "#     fold_importance_df[\"feature\"] = feats\n",
    "#     fold_importance_df[\"importance\"] = np.log1p(reg.feature_importance(importance_type='gain', iteration=reg.best_iteration))\n",
    "#     fold_importance_df[\"fold\"] = n_fold + 1\n",
    "#     feature_importance_df = pd.concat([feature_importance_df, fold_importance_df], axis=0)\n",
    "#     print('Fold %2d RMSE : %.6f' % (n_fold + 1, rmse(valid_y, oof_preds[valid_idx])))\n",
    "#     cv_score += rmse(valid_y, oof_preds[valid_idx]) /folds.n_splits\n",
    "#     del reg, train_x, train_y, valid_x, valid_y\n",
    "#     gc.collect()\n",
    "\n",
    "# # display importances\n",
    "# print(cv_score)\n",
    "# # display_importances(feature_importance_df)\n",
    "\n",
    "# if not debug:\n",
    "#     # save submission file\n",
    "#     test_df.loc[:,'target'] = sub_preds\n",
    "#     test_df = test_df.reset_index()\n",
    "#     test_df[['card_id', 'target']].to_csv(output_file_path + 'all_train_model_submission.csv', index=False)"
   ]
  },
  {
   "cell_type": "code",
   "execution_count": null,
   "metadata": {},
   "outputs": [],
   "source": []
  }
 ],
 "metadata": {
  "kernelspec": {
   "display_name": "py311",
   "language": "python",
   "name": "python3"
  },
  "language_info": {
   "codemirror_mode": {
    "name": "ipython",
    "version": 3
   },
   "file_extension": ".py",
   "mimetype": "text/x-python",
   "name": "python",
   "nbconvert_exporter": "python",
   "pygments_lexer": "ipython3",
   "version": "3.11.9"
  }
 },
 "nbformat": 4,
 "nbformat_minor": 2
}
