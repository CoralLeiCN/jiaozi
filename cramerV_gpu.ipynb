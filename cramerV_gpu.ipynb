{
 "cells": [
  {
   "cell_type": "code",
   "execution_count": 1,
   "metadata": {},
   "outputs": [],
   "source": [
    "import jax\n",
    "import numpy as np\n",
    "from scipy.stats.contingency import association\n",
    "import pandas as pd"
   ]
  },
  {
   "cell_type": "code",
   "execution_count": 17,
   "metadata": {},
   "outputs": [],
   "source": [
    "a = np.random.randint(0, 5, size = 500000)\n",
    "b = np.random.randint(0, 3, size = 500000)"
   ]
  },
  {
   "cell_type": "code",
   "execution_count": 18,
   "metadata": {},
   "outputs": [],
   "source": [
    "def xtab_counter(jax_xtab, x_y):\n",
    "    x, y = x_y\n",
    "    jax_xtab = jax_xtab.at[x, y].add(1)\n",
    "    return jax_xtab, None"
   ]
  },
  {
   "cell_type": "code",
   "execution_count": 19,
   "metadata": {},
   "outputs": [],
   "source": [
    "xtab_counter_cpu = jax.jit(xtab_counter, backend='cpu')"
   ]
  },
  {
   "cell_type": "code",
   "execution_count": 20,
   "metadata": {},
   "outputs": [
    {
     "name": "stdout",
     "output_type": "stream",
     "text": [
      "4.62 s ± 87.4 ms per loop (mean ± std. dev. of 7 runs, 1 loop each)\n"
     ]
    }
   ],
   "source": [
    "%%timeit\n",
    "# get the shape of the contingency table\n",
    "cols = a, b\n",
    "uniq_vals_all_cols, idx = zip( *(np.unique(col, return_inverse=True) for col in cols) )\n",
    "shape_xt = [uniq_vals_col.size for uniq_vals_col in uniq_vals_all_cols]\n",
    "\n",
    "jax_xt = jax.numpy.zeros(shape_xt, dtype=np.int32)\n",
    "xtab_result, _ = jax.lax.scan(xtab_counter, init = jax_xt, xs = (idx[0], idx[1]))\n",
    "association(xtab_result, method='cramer')"
   ]
  },
  {
   "cell_type": "code",
   "execution_count": 21,
   "metadata": {},
   "outputs": [
    {
     "name": "stdout",
     "output_type": "stream",
     "text": [
      "45.6 ms ± 856 µs per loop (mean ± std. dev. of 7 runs, 10 loops each)\n"
     ]
    }
   ],
   "source": [
    "%%timeit\n",
    "cols = a, b\n",
    "uniq_vals_all_cols, idx = zip( *(np.unique(col, return_inverse=True) for col in cols) )\n",
    "shape_xt = [uniq_vals_col.size for uniq_vals_col in uniq_vals_all_cols]\n",
    "\n",
    "jax_xt = jax.numpy.zeros(shape_xt, dtype=np.int32)\n",
    "xtab_result, _ = jax.lax.scan(xtab_counter_cpu, init = jax_xt, xs = (idx[0], idx[1]))\n",
    "association(xtab_result, method='cramer')"
   ]
  },
  {
   "cell_type": "code",
   "execution_count": 22,
   "metadata": {},
   "outputs": [
    {
     "name": "stdout",
     "output_type": "stream",
     "text": [
      "88 ms ± 8.91 ms per loop (mean ± std. dev. of 7 runs, 10 loops each)\n"
     ]
    }
   ],
   "source": [
    "%%timeit\n",
    "# numpy crosstab\n",
    "cols = a, b\n",
    "uniq_vals_all_cols, idx = zip( *(np.unique(col, return_inverse=True) for col in cols) )\n",
    "shape_xt = [uniq_vals_col.size for uniq_vals_col in uniq_vals_all_cols]\n",
    "\n",
    "xt = np.zeros(shape_xt, dtype=np.int32)\n",
    "np.add.at(xt, idx, wt)\n",
    "association(xt, method='cramer')"
   ]
  },
  {
   "cell_type": "code",
   "execution_count": 23,
   "metadata": {},
   "outputs": [
    {
     "name": "stdout",
     "output_type": "stream",
     "text": [
      "58.5 ms ± 8.68 ms per loop (mean ± std. dev. of 7 runs, 10 loops each)\n"
     ]
    }
   ],
   "source": [
    "%%timeit\n",
    "xtab_result = pd.crosstab(a, b)\n",
    "association(xtab_result, method='cramer')"
   ]
  }
 ],
 "metadata": {
  "kernelspec": {
   "display_name": "py310",
   "language": "python",
   "name": "python3"
  },
  "language_info": {
   "codemirror_mode": {
    "name": "ipython",
    "version": 3
   },
   "file_extension": ".py",
   "mimetype": "text/x-python",
   "name": "python",
   "nbconvert_exporter": "python",
   "pygments_lexer": "ipython3",
   "version": "3.10.13"
  }
 },
 "nbformat": 4,
 "nbformat_minor": 2
}
